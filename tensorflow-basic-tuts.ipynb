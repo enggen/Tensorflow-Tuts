{
 "cells": [
  {
   "cell_type": "code",
   "execution_count": 1,
   "metadata": {},
   "outputs": [
    {
     "name": "stdout",
     "output_type": "stream",
     "text": [
      "0 [ 0.09963626] [ 0.41541037]\n",
      "20 [ 0.08931514] [ 0.30578139]\n",
      "40 [ 0.09765022] [ 0.30127144]\n",
      "60 [ 0.09948324] [ 0.30027962]\n",
      "80 [ 0.09988635] [ 0.30006149]\n",
      "100 [ 0.09997499] [ 0.30001354]\n",
      "120 [ 0.0999945] [ 0.30000299]\n",
      "140 [ 0.09999878] [ 0.30000067]\n",
      "160 [ 0.09999973] [ 0.30000016]\n",
      "180 [ 0.09999991] [ 0.30000007]\n",
      "200 [ 0.09999991] [ 0.30000007]\n"
     ]
    }
   ],
   "source": [
    "import tensorflow as tf\n",
    "import numpy as np\n",
    "\n",
    "# Create Data\n",
    "x_data = np.random.rand(100).astype(np.float32)\n",
    "y_data = x_data*0.1 + 0.3\n",
    "\n",
    "## Create tensorflow structure start\n",
    "Weight = tf.Variable(tf.random_uniform([1], -1.0, 1.0))\n",
    "biases = tf.Variable(tf.zeros([1]))\n",
    "\n",
    "y = Weight * x_data + biases\n",
    "\n",
    "loss = tf.reduce_mean(tf.square(y-y_data))\n",
    "optimizer = tf.train.GradientDescentOptimizer(0.5)\n",
    "train = optimizer.minimize(loss)\n",
    "\n",
    "init = tf.global_variables_initializer()\n",
    "## Create tensoflow structure end\n",
    "\n",
    "sess = tf.Session()\n",
    "sess.run(init)\n",
    "\n",
    "\n",
    "for step in range(201):\n",
    "          sess.run(train)\n",
    "          if step % 20 == 0:\n",
    "                    print(step, sess.run(Weight), sess.run(biases))"
   ]
  }
 ],
 "metadata": {
  "kernelspec": {
   "display_name": "Python 3",
   "language": "python",
   "name": "python3"
  },
  "language_info": {
   "codemirror_mode": {
    "name": "ipython",
    "version": 3
   },
   "file_extension": ".py",
   "mimetype": "text/x-python",
   "name": "python",
   "nbconvert_exporter": "python",
   "pygments_lexer": "ipython3",
   "version": "3.6.0"
  }
 },
 "nbformat": 4,
 "nbformat_minor": 2
}

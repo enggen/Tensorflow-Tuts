{
 "cells": [
  {
   "cell_type": "code",
   "execution_count": 1,
   "metadata": {},
   "outputs": [
    {
     "name": "stdout",
     "output_type": "stream",
     "text": [
      "[[12]]\n"
     ]
    }
   ],
   "source": [
    "import tensorflow as tf\n",
    "import numpy as np\n",
    "import matplotlib.pyplot as plt\n",
    "\n",
    "matrix1 = tf.constant([[3,3]])\n",
    "matrix2 = tf.constant([[2], [2]])\n",
    "\n",
    "product = tf.matmul(matrix1, matrix2)\n",
    "\n",
    "# sess = tf.Session()\n",
    "# result = sess.run(product)\n",
    "# print(result)\n",
    "# sess.close()\n",
    "\n",
    "with tf.Session() as sess:\n",
    "    result2 = sess.run(product)\n",
    "    print(result2)"
   ]
  },
  {
   "cell_type": "code",
   "execution_count": 2,
   "metadata": {},
   "outputs": [
    {
     "name": "stdout",
     "output_type": "stream",
     "text": [
      "1\n",
      "2\n",
      "3\n",
      "4\n",
      "5\n"
     ]
    }
   ],
   "source": [
    "state = tf.Variable(0, name='counter')\n",
    "#print(state.name)\n",
    "\n",
    "one = tf.constant(1)\n",
    "new_value = tf.add(state, one)\n",
    "update = tf.assign(state, new_value)\n",
    "\n",
    "init = tf.global_variables_initializer()\n",
    "\n",
    "with tf.Session() as sess:\n",
    "    sess.run(init)\n",
    "    for _ in range(5):\n",
    "        sess.run(update)\n",
    "        print(sess.run(state))"
   ]
  },
  {
   "cell_type": "code",
   "execution_count": 3,
   "metadata": {},
   "outputs": [
    {
     "name": "stdout",
     "output_type": "stream",
     "text": [
      "[ 14.]\n"
     ]
    }
   ],
   "source": [
    "input1 = tf.placeholder(tf.float32)\n",
    "input2 = tf.placeholder(tf.float32)\n",
    "\n",
    "output = tf.multiply(input1, input2)\n",
    "\n",
    "with tf.Session() as sess:\n",
    "    print(sess.run(output, feed_dict={input1:[7.], input2:[2.]}))"
   ]
  },
  {
   "cell_type": "code",
   "execution_count": 4,
   "metadata": {
    "collapsed": true
   },
   "outputs": [],
   "source": [
    "def add_layer(inputs, in_size, out_size, n_layer, activation_function=None):\n",
    "    layer_name = 'layer%s' %n_layer\n",
    "    with tf.name_scope('layer'):\n",
    "        with tf.name_scope('weights'):\n",
    "            Weight = tf.Variable(tf.random_normal([in_size, out_size]), name='W')\n",
    "            tf.summary.histogram(layer_name+'/weight', Weight)\n",
    "        with tf.name_scope('biases'):\n",
    "            biases = tf.Variable(tf.zeros([1,out_size]) + 0.1, name='b')\n",
    "            tf.summary.histogram(layer_name+'/biases', biases)\n",
    "        with tf.name_scope('inputs'):\n",
    "            Wx_plus_b = tf.matmul(inputs, Weight) + biases\n",
    "        if activation_function is None:\n",
    "            outputs = Wx_plus_b\n",
    "        else:\n",
    "            outputs = activation_function(Wx_plus_b)\n",
    "            tf.summary.histogram(layer_name+'/outputs', outputs)\n",
    "        return outputs\n",
    "        \n",
    "    "
   ]
  },
  {
   "cell_type": "code",
   "execution_count": 5,
   "metadata": {},
   "outputs": [
    {
     "name": "stdout",
     "output_type": "stream",
     "text": [
      "Using matplotlib backend: MacOSX\n"
     ]
    }
   ],
   "source": [
    "#Generating example data\n",
    "x_data = np.linspace(-1, 1, 300)[:, np.newaxis]\n",
    "noise = np.random.normal(0, 0.05, x_data.shape)\n",
    "y_data = np.square(x_data) - 0.5 + noise\n",
    "\n",
    "# plt.scatter(x_data, y_data)\n",
    "# plt.show()\n",
    "\n",
    "# Define input placeholder for network\n",
    "with tf.name_scope('input'):\n",
    "    xs = tf.placeholder(tf.float32, [None, 1], name='x-inputs')\n",
    "    ys = tf.placeholder(tf.float32, [None, 1], name='y-inputs')\n",
    "\n",
    "#Hidden layer\n",
    "l1 = add_layer(xs, 1, 10, n_layer=1, activation_function=tf.nn.relu)\n",
    "\n",
    "#output layer\n",
    "prediction = add_layer(l1, 10, 1, n_layer=2, activation_function=None)\n",
    "\n",
    "#Error = real Data - prediction\n",
    "with tf.name_scope('loss'):\n",
    "    loss = tf.reduce_mean(tf.reduce_sum(tf.square(ys-prediction), reduction_indices=[1]))\n",
    "    tf.summary.scalar('loss', loss)\n",
    "    \n",
    "with tf.name_scope('train'):\n",
    "    train_step = tf.train.GradientDescentOptimizer(0.1).minimize(loss)\n",
    "\n",
    "#Main part\n",
    "init = tf.global_variables_initializer()\n",
    "sess = tf.Session()\n",
    "merged = tf.summary.merge_all()\n",
    "writer = tf.summary.FileWriter('logs/',sess.graph)\n",
    "sess.run(init)\n",
    "\n",
    "for i in range(1000):\n",
    "    sess.run(train_step, feed_dict={xs: x_data, ys: y_data})\n",
    "    if i % 50 == 0:\n",
    "        result = sess.run(merged,\n",
    "                          feed_dict={xs: x_data, ys: y_data})\n",
    "writer.add_summary(result, i)\n",
    "\n",
    "#plot the data\n",
    "%matplotlib\n",
    "fig = plt.figure()\n",
    "ax = fig.add_subplot(1,1,1)\n",
    "ax.scatter(x_data, y_data)\n",
    "plt.ion()\n",
    "plt.show()\n",
    "\n",
    "# for i in range(1000):\n",
    "#     #Training\n",
    "#     sess.run(train_step, feed_dict={xs:x_data, ys:y_data})\n",
    "#     if i % 50 == 0:\n",
    "# #         result = sess.run(merged, feed_dict={xs:x_data, ys:y_data})\n",
    "# #         writer.add_summary(result, i)\n",
    "#         print(i, sess.run(loss, feed_dict={xs:x_data, ys:y_data}))\n",
    "        \n",
    "#         try:\n",
    "#             ax.lines.remove(lines[0])\n",
    "#         except Exception:\n",
    "#             pass\n",
    "            \n",
    "#         prediction_value = sess.run(prediction, feed_dict={xs:x_data})\n",
    "        \n",
    "#         #plot the prediction\n",
    "#         lines = ax.plot(x_data, prediction_value, 'r', lw=5)\n",
    "#         plt.pause(0.9)"
   ]
  },
  {
   "cell_type": "code",
   "execution_count": null,
   "metadata": {
    "collapsed": true
   },
   "outputs": [],
   "source": []
  }
 ],
 "metadata": {
  "kernelspec": {
   "display_name": "Python 2",
   "language": "python",
   "name": "python2"
  },
  "language_info": {
   "codemirror_mode": {
    "name": "ipython",
    "version": 2
   },
   "file_extension": ".py",
   "mimetype": "text/x-python",
   "name": "python",
   "nbconvert_exporter": "python",
   "pygments_lexer": "ipython2",
   "version": "2.7.13"
  }
 },
 "nbformat": 4,
 "nbformat_minor": 2
}

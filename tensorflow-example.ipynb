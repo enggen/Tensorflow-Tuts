{
 "cells": [
  {
   "cell_type": "code",
   "execution_count": 1,
   "metadata": {},
   "outputs": [
    {
     "name": "stdout",
     "output_type": "stream",
     "text": [
      "0 [-0.08969748] [ 0.55950558]\n",
      "20 [ 0.03175189] [ 0.33681008]\n",
      "40 [ 0.08176085] [ 0.3098374]\n",
      "60 [ 0.09512563] [ 0.30262902]\n",
      "80 [ 0.09869733] [ 0.30070263]\n",
      "100 [ 0.09965187] [ 0.30018777]\n",
      "120 [ 0.09990697] [ 0.3000502]\n",
      "140 [ 0.09997514] [ 0.30001342]\n",
      "160 [ 0.09999337] [ 0.30000359]\n",
      "180 [ 0.09999822] [ 0.30000097]\n",
      "200 [ 0.09999952] [ 0.30000028]\n"
     ]
    }
   ],
   "source": [
    "import tensorflow as tf\n",
    "import numpy as np\n",
    "\n",
    "# Create Data\n",
    "x_data = np.random.rand(100).astype(np.float32)\n",
    "y_data = x_data*0.1 + 0.3\n",
    "\n",
    "## Create tensorflow structure start\n",
    "Weight = tf.Variable(tf.random_uniform([1], -1.0, 1.0))\n",
    "biases = tf.Variable(tf.zeros([1]))\n",
    "\n",
    "y = Weight * x_data + biases\n",
    "\n",
    "loss = tf.reduce_mean(tf.square(y-y_data))\n",
    "optimizer = tf.train.GradientDescentOptimizer(0.5)\n",
    "train = optimizer.minimize(loss)\n",
    "\n",
    "init = tf.global_variables_initializer()\n",
    "## Create tensoflow structure end\n",
    "\n",
    "sess = tf.Session()\n",
    "sess.run(init)\n",
    "\n",
    "\n",
    "for step in range(201):\n",
    "          sess.run(train)\n",
    "          if step % 20 == 0:\n",
    "                    print(step, sess.run(Weight), sess.run(biases))"
   ]
  }
 ],
 "metadata": {
  "kernelspec": {
   "display_name": "Python 3",
   "language": "python",
   "name": "python3"
  },
  "language_info": {
   "codemirror_mode": {
    "name": "ipython",
    "version": 3
   },
   "file_extension": ".py",
   "mimetype": "text/x-python",
   "name": "python",
   "nbconvert_exporter": "python",
   "pygments_lexer": "ipython3",
   "version": "3.6.0"
  }
 },
 "nbformat": 4,
 "nbformat_minor": 2
}
